{
  "nbformat": 4,
  "nbformat_minor": 0,
  "metadata": {
    "colab": {
      "provenance": []
    },
    "kernelspec": {
      "name": "python3",
      "display_name": "Python 3"
    },
    "language_info": {
      "name": "python"
    }
  },
  "cells": [
    {
      "cell_type": "markdown",
      "source": [],
      "metadata": {
        "id": "BypfHaVavYvc"
      }
    },
    {
      "cell_type": "markdown",
      "source": [
        "1. Lucas dinámico por tabulación\n"
      ],
      "metadata": {
        "id": "BMZI-SjAvZ4C"
      }
    },
    {
      "cell_type": "code",
      "execution_count": null,
      "metadata": {
        "colab": {
          "base_uri": "https://localhost:8080/"
        },
        "id": "nf-Stfyhus2D",
        "outputId": "570f964d-1310-4783-8f14-e57b3864ae2e"
      },
      "outputs": [
        {
          "output_type": "stream",
          "name": "stdout",
          "text": [
            "L(0) = 2\n",
            "L(1) = 1\n",
            "L(2) = 3\n",
            "L(3) = 4\n",
            "L(4) = 7\n",
            "L(5) = 11\n"
          ]
        }
      ],
      "source": [
        "def lucas_tab(n):\n",
        "    if n == 0:\n",
        "        return 2\n",
        "    elif n == 1:\n",
        "        return 1\n",
        "\n",
        "    dp = [0] * (n + 1)\n",
        "    dp[0] = 2\n",
        "    dp[1] = 1\n",
        "\n",
        "    for i in range(2, n + 1):\n",
        "        dp[i] = dp[i - 1] + dp[i - 2]\n",
        "\n",
        "    return dp[n]\n",
        "\n",
        "# Ejemplo de prueba\n",
        "for i in range(6):\n",
        "    print(f\"L({i}) = {lucas_tab(i)}\")\n"
      ]
    },
    {
      "cell_type": "markdown",
      "source": [
        "Lucas dinámico por memorización"
      ],
      "metadata": {
        "id": "lb-ZEZKxvfea"
      }
    },
    {
      "cell_type": "code",
      "source": [
        "def lucas_mem(n, memo=None):\n",
        "    if memo is None:\n",
        "        memo = {}\n",
        "\n",
        "    if n == 0:\n",
        "        return 2\n",
        "    if n == 1:\n",
        "        return 1\n",
        "    if n in memo:\n",
        "        return memo[n]\n",
        "\n",
        "    memo[n] = lucas_mem(n - 1, memo) + lucas_mem(n - 2, memo)\n",
        "    return memo[n]\n",
        "\n",
        "# Ejemplo de prueba\n",
        "for i in range(11):\n",
        "    print(f\"L({i}) = {lucas_mem(i)}\")\n"
      ],
      "metadata": {
        "colab": {
          "base_uri": "https://localhost:8080/"
        },
        "id": "kKLbcb1KvWrE",
        "outputId": "a4ff095d-e199-4cd9-a704-31b37ed922ec"
      },
      "execution_count": null,
      "outputs": [
        {
          "output_type": "stream",
          "name": "stdout",
          "text": [
            "L(0) = 2\n",
            "L(1) = 1\n",
            "L(2) = 3\n",
            "L(3) = 4\n",
            "L(4) = 7\n",
            "L(5) = 11\n",
            "L(6) = 18\n",
            "L(7) = 29\n",
            "L(8) = 47\n",
            "L(9) = 76\n",
            "L(10) = 123\n"
          ]
        }
      ]
    },
    {
      "cell_type": "markdown",
      "source": [
        "Implementacion de la combinatoria usando programacion dinamica (tabulación)\n"
      ],
      "metadata": {
        "id": "T0-wuNw0Fau9"
      }
    },
    {
      "cell_type": "code",
      "source": [
        "def combinatorio(n, k):\n",
        "    # Crear una tabla de tamaño (n+1) x (k+1)\n",
        "    C = [[0 for _ in range(k + 1)] for _ in range(n + 1)]\n",
        "\n",
        "    for i in range(n + 1):\n",
        "        for j in range(min(i, k) + 1):\n",
        "            # Casos base: C(n, 0) = C(n, n) = 1\n",
        "            if j == 0 or j == i:\n",
        "                C[i][j] = 1\n",
        "            else:\n",
        "                # Fórmula de Pascal: C(n, k) = C(n-1, k-1) + C(n-1, k)\n",
        "                C[i][j] = C[i - 1][j - 1] + C[i - 1][j]\n",
        "\n",
        "    return C[n][k]\n",
        "\n",
        "# Ejemplo de uso\n",
        "n = 4\n",
        "k = 2\n",
        "print(f\"C({n}, {k}) = {combinatorio(n, k)}\")  # Salida esperada: 6\n"
      ],
      "metadata": {
        "colab": {
          "base_uri": "https://localhost:8080/"
        },
        "id": "w1RDq9N8FaOj",
        "outputId": "baa3fc8d-3a0b-423c-a6a0-6e8931f00185"
      },
      "execution_count": null,
      "outputs": [
        {
          "output_type": "stream",
          "name": "stdout",
          "text": [
            "C(4, 2) = 6\n"
          ]
        }
      ]
    },
    {
      "cell_type": "markdown",
      "source": [
        "Problema de la mochila usando programacion dinamica con memorizacion"
      ],
      "metadata": {
        "id": "SyiinMD7Ie6u"
      }
    },
    {
      "cell_type": "code",
      "source": [
        "def knapsack_memo(values, weights, capacity):\n",
        "    n = len(values)\n",
        "    memo = {}\n",
        "\n",
        "    def dp(i, remaining):\n",
        "        if i < 0 or remaining == 0:\n",
        "            return 0\n",
        "\n",
        "        if (i, remaining) in memo:\n",
        "            return memo[(i, remaining)]\n",
        "\n",
        "        # Opción 1: No tomar el objeto i\n",
        "        option1 = dp(i - 1, remaining)\n",
        "\n",
        "        # Opción 2: Tomar el objeto i (si cabe)\n",
        "        option2 = 0\n",
        "        if weights[i] <= remaining:\n",
        "            option2 = values[i] + dp(i - 1, remaining - weights[i])\n",
        "\n",
        "        memo[(i, remaining)] = max(option1, option2)\n",
        "        return memo[(i, remaining)]\n",
        "\n",
        "    return dp(n - 1, capacity)\n",
        "\n",
        "# Datos del problema\n",
        "valores = [2, 5, 10, 14, 15]\n",
        "pesos = [1, 3, 4, 5, 7]\n",
        "capacidad_maxima = 8\n",
        "\n",
        "# Ejecución\n",
        "resultado = knapsack_memo(valores, pesos, capacidad_maxima)\n",
        "print(\"Valor máximo que se puede obtener:\", resultado)\n"
      ],
      "metadata": {
        "id": "kBF4n2BfJF2S"
      },
      "execution_count": null,
      "outputs": []
    }
  ]
}